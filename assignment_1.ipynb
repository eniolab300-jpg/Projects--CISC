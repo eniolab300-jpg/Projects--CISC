{
  "nbformat": 4,
  "nbformat_minor": 0,
  "metadata": {
    "colab": {
      "provenance": []
    },
    "kernelspec": {
      "name": "python3",
      "display_name": "Python 3"
    },
    "language_info": {
      "name": "python"
    }
  },
  "cells": [
    {
      "cell_type": "markdown",
      "source": [
        "Problem 1\n",
        "\n",
        "I reviewed the top solution under the LeetCode “Solutions” tab. I learned that I can add the item to the end if the list using the name of the list and \".append()\". Using this I can the terms and numbers to the end of the list."
      ],
      "metadata": {
        "id": "1T1hyt-R8TeF"
      }
    },
    {
      "cell_type": "code",
      "source": [
        "# Final correct code\n",
        "def fizzBuzz(n):\n",
        "    answer = []\n",
        "    for i in range(1, n + 1):\n",
        "        if i % 3 == 0 and i % 5 == 0:\n",
        "            answer.append(\"FizzBuzz\")\n",
        "        elif i % 3 == 0:\n",
        "            answer.append(\"Fizz\")\n",
        "        elif i % 5 == 0:\n",
        "            answer.append(\"Buzz\")\n",
        "        else:\n",
        "            answer.append(str(i))\n",
        "    return answer\n",
        "\n",
        "n = int(input(\"Enter a number: \"))\n",
        "result = fizzBuzz(n)\n",
        "print(result)\n",
        "# Used Gemini to explain why \"answer\" had to be defined"
      ],
      "metadata": {
        "colab": {
          "base_uri": "https://localhost:8080/"
        },
        "id": "lI1DDlAD8HgN",
        "outputId": "b77edaa0-99c6-4985-9426-0d1feda441de"
      },
      "execution_count": null,
      "outputs": [
        {
          "output_type": "stream",
          "name": "stdout",
          "text": [
            "Enter a number: 15\n",
            "['1', '2', 'Fizz', '4', 'Buzz', 'Fizz', '7', '8', 'Fizz', 'Buzz', '11', 'Fizz', '13', '14', 'FizzBuzz']\n"
          ]
        }
      ]
    },
    {
      "cell_type": "code",
      "source": [
        "# Fix 1: Code was not printing an output, so I added a code that allows the user to input an integer. The draft did not include this, so here is the final verison"
      ],
      "metadata": {
        "id": "TnwxWBt2BV37"
      },
      "execution_count": null,
      "outputs": []
    },
    {
      "cell_type": "code",
      "source": [
        "# Fix 2: There needed to be space before and after the \"+\" in range"
      ],
      "metadata": {
        "id": "RfsNz06CBsAp"
      },
      "execution_count": null,
      "outputs": []
    },
    {
      "cell_type": "markdown",
      "source": [
        "I used Gemini to break down the importance of defining a variable when an error was found. As well, it helped fixed a bug in my code what was not written correctly, I accepted that correction as I did not realize that I was missing spaces."
      ],
      "metadata": {
        "id": "NWwqQ75LDvL3"
      }
    },
    {
      "cell_type": "markdown",
      "source": [
        "Problem 2\n",
        "\n",
        "I reviewed the top solution under the LeetCode “Solutions” tab. I learned that I can reverse to the input and compare it to the original. I also learned that numbers ending with 0 cannot be palindromes because when read backwards, it cannot start with 0."
      ],
      "metadata": {
        "id": "3AQxM2nCElpw"
      }
    },
    {
      "cell_type": "code",
      "metadata": {
        "colab": {
          "base_uri": "https://localhost:8080/"
        },
        "id": "2352e666",
        "outputId": "37cf26d0-5958-49a2-8e88-b9676ff3cf8d"
      },
      "source": [
        "# Final correct code\n",
        "def isPalindrome(x):\n",
        "  if x < 0:\n",
        "    return False\n",
        "  rev = 0\n",
        "  num = x\n",
        "  while num > 0:\n",
        "    rev = rev * 10 + num % 10\n",
        "    num //= 10\n",
        "  return rev == x\n",
        "\n",
        "x = int(input(\"Enter a number: \"))\n",
        "result = isPalindrome(x)\n",
        "print(result)\n",
        "# Used Copilot to explain the error of result = True(x)."
      ],
      "execution_count": null,
      "outputs": [
        {
          "output_type": "stream",
          "name": "stdout",
          "text": [
            "Enter a number: -87\n",
            "False\n"
          ]
        }
      ]
    },
    {
      "cell_type": "code",
      "source": [
        "# Fix 1: Return function was not indented"
      ],
      "metadata": {
        "id": "fZbAYybjRUtx"
      },
      "execution_count": null,
      "outputs": []
    },
    {
      "cell_type": "code",
      "source": [
        "# Fix 2: Code was result = True(x), which was implying it was a function. Changed to isPalindrome function with x as the argument."
      ],
      "metadata": {
        "id": "QVWyJ1hKRaXN"
      },
      "execution_count": null,
      "outputs": []
    },
    {
      "cell_type": "markdown",
      "source": [
        "I used Copilot to explain why the error of result = True(x) kept coming up. I made edits after understanding that I was not calling the correct function. This fixed the code."
      ],
      "metadata": {
        "id": "7rleTRJVSF8F"
      }
    },
    {
      "cell_type": "markdown",
      "source": [
        "Problem 3\n",
        "\n",
        "I reviewed the top solution under the LeetCode “Solutions” tab. I learned that there are many correct approaches to this problem, such as converting the input to a string or using remainders."
      ],
      "metadata": {
        "id": "k1JZQqhgSd2O"
      }
    },
    {
      "cell_type": "code",
      "source": [
        "# Final correct code\n",
        "def reverse(x):\n",
        "  result = 0\n",
        "  if x < 0:\n",
        "\n",
        "    s = str(abs(x))[::-1]\n",
        "    result = int(s)\n",
        "    result *= -1\n",
        "  else:\n",
        "\n",
        "    s = str(x)[::-1]\n",
        "    result = int(s)\n",
        "\n",
        "\n",
        "  if result < -2**31 or result > 2**31 - 1:\n",
        "    return 0\n",
        "  else:\n",
        "    return result\n",
        "\n",
        "x = int(input(\"Enter a number: \"))\n",
        "result = reverse(x)\n",
        "print(result)\n",
        "\n",
        "# Used Gemini for the parentheses after the reverse variable and Copilot for understanding the coversion."
      ],
      "metadata": {
        "colab": {
          "base_uri": "https://localhost:8080/"
        },
        "id": "Mbvbk1XKbTVC",
        "outputId": "b7a69ee5-dd9b-44dc-a541-4dfcba929eba"
      },
      "execution_count": null,
      "outputs": [
        {
          "output_type": "stream",
          "name": "stdout",
          "text": [
            "Enter a number: -123\n",
            "-321\n"
          ]
        }
      ]
    },
    {
      "cell_type": "code",
      "source": [
        "# Fix 1: There was no parentheses after the reverse variable was defined"
      ],
      "metadata": {
        "id": "wGZzWEwEedvg"
      },
      "execution_count": null,
      "outputs": []
    },
    {
      "cell_type": "code",
      "source": [
        "# Fix 2: Fixed the code that reverts the integer and handles the positive integers. Copilot helped in understanding the reason of this part of the code."
      ],
      "metadata": {
        "id": "nuhXI5iNfF39"
      },
      "execution_count": null,
      "outputs": []
    },
    {
      "cell_type": "markdown",
      "source": [
        "Used Gemini to explain the specific parentheses that come after the reverse variable is defined. I didn't know what to put in the parentheses so I used the correction that Gemini suggested after understanding the explaination. Also used Copilot to understand the conversion and handling of positive integers in the code."
      ],
      "metadata": {
        "id": "BCpTx5h9h1MW"
      }
    },
    {
      "cell_type": "markdown",
      "source": [
        "Problem 4\n",
        "\n",
        "I reviewed the top solution under the LeetCode “Solutions” tab. I learned how to use a hash table, I have used one before. I found the two pass hash table to be effective and efficient."
      ],
      "metadata": {
        "id": "tHQ7vZE-iOod"
      }
    },
    {
      "cell_type": "code",
      "source": [
        "# Final correct code\n",
        "def twoSum(nums, target):\n",
        "    num_map = {}\n",
        "    for i, num in enumerate(nums):\n",
        "        complement = target - num\n",
        "        if complement in num_map:\n",
        "            return [num_map[complement], i]\n",
        "        num_map[num] = i\n",
        "    return []\n",
        "\n",
        "nums_input_str = input(\"Enter a list of numbers separated by spaces: \")\n",
        "nums_input = list(map(int, nums_input_str.split()))\n",
        "target_input = int(input(\"Enter the target number: \"))\n",
        "result = twoSum(nums_input, target_input)\n",
        "print(result)\n",
        "\n",
        "# Used Gemini to help with most of this code, it caught an error on the return statement, and helped properly implement the twoSum function."
      ],
      "metadata": {
        "colab": {
          "base_uri": "https://localhost:8080/"
        },
        "id": "mTVr1VGmjqcu",
        "outputId": "cc0edd4d-3a06-4c7c-cd9f-db581d87112d"
      },
      "execution_count": null,
      "outputs": [
        {
          "output_type": "stream",
          "name": "stdout",
          "text": [
            "Enter a list of numbers separated by spaces: 2 7 11 15\n",
            "Enter the target number: 9\n",
            "[0, 1]\n"
          ]
        }
      ]
    },
    {
      "cell_type": "code",
      "source": [
        "# Fix 1: Called the twoSum function to be defined to take one argument, but it needs to be defined to take two arguments."
      ],
      "metadata": {
        "id": "PvKB9QFWmK_V"
      },
      "execution_count": null,
      "outputs": []
    },
    {
      "cell_type": "code",
      "source": [
        "# Fix 2: The return statement was inside the for loop. Moved to outside of the for loop so code doesn't exit early."
      ],
      "metadata": {
        "id": "nWLEUoRVmtqz"
      },
      "execution_count": null,
      "outputs": []
    },
    {
      "cell_type": "markdown",
      "source": [
        "I used Gemini when I ran into some type errors with the code. I mistakenly but the return statement inside of the for loop, Gemini caught this mistake and made changes. Also, my twoSum argument was not set up to take two arguments, so I learn how to fix that with Gemini's explanation."
      ],
      "metadata": {
        "id": "0GD8hpZpnRmR"
      }
    },
    {
      "cell_type": "markdown",
      "source": [
        "Problem 5\n",
        "\n",
        "I reviewed the top solution under the LeetCode “Solutions” tab. I learned how to use the left anf right pointer functions to check the characters from both ends of the string. I also learned how to use the isalnum() function to check if a character in a string is alphanumeric."
      ],
      "metadata": {
        "id": "PrISVpQeode_"
      }
    },
    {
      "cell_type": "code",
      "source": [
        "# Final correct code\n",
        "def isPalindrome(s):\n",
        "  l, r = 0, len(s)-1\n",
        "  while l < r:\n",
        "    while l < r and not s[l].isalnum():\n",
        "      l += 1\n",
        "    while l < r and not s[r].isalnum():\n",
        "      r -= 1\n",
        "    if s[l].lower() != s[r].lower():\n",
        "      return False\n",
        "    l += 1\n",
        "    r -= 1\n",
        "  return True\n",
        "\n",
        "enter_string = input(\"Enter a string: \")\n",
        "result = isPalindrome(enter_string)\n",
        "print(result)\n",
        "\n",
        "# Used Gemini to help with indentation throughout code, explained how keep functions within their respective loops"
      ],
      "metadata": {
        "colab": {
          "base_uri": "https://localhost:8080/"
        },
        "id": "dKvtRzvQsvLN",
        "outputId": "ef312c0b-a8cf-4a95-9cb9-26d982ab48c0"
      },
      "execution_count": null,
      "outputs": [
        {
          "output_type": "stream",
          "name": "stdout",
          "text": [
            "Enter a string: ::::::\n",
            "True\n"
          ]
        }
      ]
    },
    {
      "cell_type": "code",
      "source": [
        "# Fix 1: There needed to be a : after the palindrome function was defined, and I missed that."
      ],
      "metadata": {
        "id": "0aGB5XwltxMw"
      },
      "execution_count": null,
      "outputs": []
    },
    {
      "cell_type": "code",
      "source": [
        "# Fix 2: Lack of indentation throughout the code, so statements were inside loops they should not have been in."
      ],
      "metadata": {
        "id": "T8Gegq1tuE3S"
      },
      "execution_count": null,
      "outputs": []
    },
    {
      "cell_type": "markdown",
      "source": [
        "I used Gemini to primarly help with keeping functions inside their designated loops. I learned from the explainations how and when to indent properly."
      ],
      "metadata": {
        "id": "k8Zwl1x0vW8T"
      }
    }
  ]
}